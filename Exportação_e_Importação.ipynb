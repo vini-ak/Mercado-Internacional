{
  "nbformat": 4,
  "nbformat_minor": 0,
  "metadata": {
    "kernelspec": {
      "display_name": "Python 3",
      "language": "python",
      "name": "python3"
    },
    "language_info": {
      "codemirror_mode": {
        "name": "ipython",
        "version": 3
      },
      "file_extension": ".py",
      "mimetype": "text/x-python",
      "name": "python",
      "nbconvert_exporter": "python",
      "pygments_lexer": "ipython3",
      "version": "3.7.3"
    },
    "colab": {
      "name": "Exportação e Importação.ipynb",
      "provenance": []
    }
  },
  "cells": [
    {
      "cell_type": "code",
      "metadata": {
        "id": "ZJnD9jaEQto-",
        "colab_type": "code",
        "colab": {}
      },
      "source": [
        "import pandas as pd\n",
        "import matplotlib.pyplot as plt\n",
        "import math"
      ],
      "execution_count": 0,
      "outputs": []
    },
    {
      "cell_type": "markdown",
      "metadata": {
        "id": "hhmz2fJ3Rcqe",
        "colab_type": "text"
      },
      "source": [
        "# 1. Analisando os dados nacionais de Exportação"
      ]
    },
    {
      "cell_type": "code",
      "metadata": {
        "id": "fv9GcWMlQtrG",
        "colab_type": "code",
        "outputId": "1cf1233e-5f80-44ff-a640-5f36cf3e88d3",
        "colab": {
          "base_uri": "https://localhost:8080/",
          "height": 206
        }
      },
      "source": [
        "# Tabela de exportação\n",
        "df_e = pd.read_csv('https://raw.githubusercontent.com/dressalsl/mercadoInternacional/master/exportacao-de-bens.csv', sep = \";\")\n",
        "df_e.head()"
      ],
      "execution_count": 2,
      "outputs": [
        {
          "output_type": "execute_result",
          "data": {
            "text/html": [
              "<div>\n",
              "<style scoped>\n",
              "    .dataframe tbody tr th:only-of-type {\n",
              "        vertical-align: middle;\n",
              "    }\n",
              "\n",
              "    .dataframe tbody tr th {\n",
              "        vertical-align: top;\n",
              "    }\n",
              "\n",
              "    .dataframe thead th {\n",
              "        text-align: right;\n",
              "    }\n",
              "</style>\n",
              "<table border=\"1\" class=\"dataframe\">\n",
              "  <thead>\n",
              "    <tr style=\"text-align: right;\">\n",
              "      <th></th>\n",
              "      <th>data</th>\n",
              "      <th>valor</th>\n",
              "    </tr>\n",
              "  </thead>\n",
              "  <tbody>\n",
              "    <tr>\n",
              "      <th>0</th>\n",
              "      <td>01/01/1995</td>\n",
              "      <td>2970,1</td>\n",
              "    </tr>\n",
              "    <tr>\n",
              "      <th>1</th>\n",
              "      <td>01/02/1995</td>\n",
              "      <td>2945,8</td>\n",
              "    </tr>\n",
              "    <tr>\n",
              "      <th>2</th>\n",
              "      <td>01/03/1995</td>\n",
              "      <td>3786,9</td>\n",
              "    </tr>\n",
              "    <tr>\n",
              "      <th>3</th>\n",
              "      <td>01/04/1995</td>\n",
              "      <td>3382,4</td>\n",
              "    </tr>\n",
              "    <tr>\n",
              "      <th>4</th>\n",
              "      <td>01/05/1995</td>\n",
              "      <td>4200,1</td>\n",
              "    </tr>\n",
              "  </tbody>\n",
              "</table>\n",
              "</div>"
            ],
            "text/plain": [
              "         data   valor\n",
              "0  01/01/1995  2970,1\n",
              "1  01/02/1995  2945,8\n",
              "2  01/03/1995  3786,9\n",
              "3  01/04/1995  3382,4\n",
              "4  01/05/1995  4200,1"
            ]
          },
          "metadata": {
            "tags": []
          },
          "execution_count": 2
        }
      ]
    },
    {
      "cell_type": "code",
      "metadata": {
        "id": "VLiOjS37Qtsj",
        "colab_type": "code",
        "outputId": "47fc7b9f-cc98-45f5-ea3e-bf22608297c5",
        "colab": {
          "base_uri": "https://localhost:8080/",
          "height": 54
        }
      },
      "source": [
        "# Separando os totais de exportação por ano\n",
        "total_export = {}\n",
        "for i in range(math.ceil((len(df_e) / 12))):\n",
        "    total_export[1995 + i] = 0\n",
        "print(total_export)"
      ],
      "execution_count": 3,
      "outputs": [
        {
          "output_type": "stream",
          "text": [
            "{1995: 0, 1996: 0, 1997: 0, 1998: 0, 1999: 0, 2000: 0, 2001: 0, 2002: 0, 2003: 0, 2004: 0, 2005: 0, 2006: 0, 2007: 0, 2008: 0, 2009: 0, 2010: 0, 2011: 0, 2012: 0, 2013: 0, 2014: 0, 2015: 0, 2016: 0, 2017: 0, 2018: 0, 2019: 0}\n"
          ],
          "name": "stdout"
        }
      ]
    },
    {
      "cell_type": "code",
      "metadata": {
        "id": "7EhRELThQtv4",
        "colab_type": "code",
        "colab": {}
      },
      "source": [
        "ano = 1995  # first db year\n",
        "\n",
        "# Verifying the average of each year\n",
        "for i in range(len(df_e)):\n",
        "    \n",
        "    if i % 12 == 0 and i != 0: \n",
        "        ano += 1\n",
        "    \n",
        "    # Preprocessing string...\n",
        "    prep_str = df_e.iloc[i,1].replace(',', '.')\n",
        "    valor = float(prep_str) # Converting into float\n",
        "    \n",
        "    # Adding the total value to total_export\n",
        "    total_export[ano] += valor"
      ],
      "execution_count": 0,
      "outputs": []
    },
    {
      "cell_type": "code",
      "metadata": {
        "id": "2OOrYBBvTF-B",
        "colab_type": "code",
        "colab": {
          "base_uri": "https://localhost:8080/",
          "height": 54
        },
        "outputId": "989ca368-81d5-467f-f4ba-e738ee55e418"
      },
      "source": [
        "# Exportation growth rate compared to the previous year\n",
        "crescimento_exportacao = [0]\n",
        "for p in range(1, len(total_export)):\n",
        "    taxa = (total_export[1995 + p] - total_export[1995 + p -1]) / total_export[1995 + p - 1]\n",
        "    crescimento_exportacao.append(taxa * 100)\n",
        "print(crescimento_exportacao)"
      ],
      "execution_count": 14,
      "outputs": [
        {
          "output_type": "stream",
          "text": [
            "[0, 2.790195643322033, 10.71278861147906, -3.2446462106984946, -5.565219092714496, 14.605028157516303, 5.334892936948146, 3.711719566594178, 20.992375886818245, 31.911718644211547, 22.611306793968257, 16.539802570657553, 16.587764733883752, 23.47095710084492, -22.56720387422579, 31.062421961156033, 26.912661269733086, -5.175066407468468, -0.2914356870655282, -7.23557521156798, -15.181235684257352, -3.031667709227145, 18.313381916985296, 9.844791959961235, -29.973448778268075]\n"
          ],
          "name": "stdout"
        }
      ]
    },
    {
      "cell_type": "markdown",
      "metadata": {
        "id": "Gb-CAGmFR1nU",
        "colab_type": "text"
      },
      "source": [
        "### 1.1. Tabela com o total anual de Exportação"
      ]
    },
    {
      "cell_type": "code",
      "metadata": {
        "id": "qcKkLBzCQtww",
        "colab_type": "code",
        "outputId": "be35c2fa-d7c7-4161-da17-bc3b1f9a45e2",
        "colab": {
          "base_uri": "https://localhost:8080/",
          "height": 834
        }
      },
      "source": [
        "# Creating a data frame to represent the total amount of exportations (in R$) along the years\n",
        "df = {'Ano' : list(total_export.keys()), 'Total' : list(total_export.values()), 'Crescimento (%)' : crescimento_exportacao}\n",
        "pd.DataFrame(df)"
      ],
      "execution_count": 15,
      "outputs": [
        {
          "output_type": "execute_result",
          "data": {
            "text/html": [
              "<div>\n",
              "<style scoped>\n",
              "    .dataframe tbody tr th:only-of-type {\n",
              "        vertical-align: middle;\n",
              "    }\n",
              "\n",
              "    .dataframe tbody tr th {\n",
              "        vertical-align: top;\n",
              "    }\n",
              "\n",
              "    .dataframe thead th {\n",
              "        text-align: right;\n",
              "    }\n",
              "</style>\n",
              "<table border=\"1\" class=\"dataframe\">\n",
              "  <thead>\n",
              "    <tr style=\"text-align: right;\">\n",
              "      <th></th>\n",
              "      <th>Ano</th>\n",
              "      <th>Total</th>\n",
              "      <th>Crescimento (%)</th>\n",
              "    </tr>\n",
              "  </thead>\n",
              "  <tbody>\n",
              "    <tr>\n",
              "      <th>0</th>\n",
              "      <td>1995</td>\n",
              "      <td>46416.1</td>\n",
              "      <td>0.000000</td>\n",
              "    </tr>\n",
              "    <tr>\n",
              "      <th>1</th>\n",
              "      <td>1996</td>\n",
              "      <td>47711.2</td>\n",
              "      <td>2.790196</td>\n",
              "    </tr>\n",
              "    <tr>\n",
              "      <th>2</th>\n",
              "      <td>1997</td>\n",
              "      <td>52822.4</td>\n",
              "      <td>10.712789</td>\n",
              "    </tr>\n",
              "    <tr>\n",
              "      <th>3</th>\n",
              "      <td>1998</td>\n",
              "      <td>51108.5</td>\n",
              "      <td>-3.244646</td>\n",
              "    </tr>\n",
              "    <tr>\n",
              "      <th>4</th>\n",
              "      <td>1999</td>\n",
              "      <td>48264.2</td>\n",
              "      <td>-5.565219</td>\n",
              "    </tr>\n",
              "    <tr>\n",
              "      <th>5</th>\n",
              "      <td>2000</td>\n",
              "      <td>55313.2</td>\n",
              "      <td>14.605028</td>\n",
              "    </tr>\n",
              "    <tr>\n",
              "      <th>6</th>\n",
              "      <td>2001</td>\n",
              "      <td>58264.1</td>\n",
              "      <td>5.334893</td>\n",
              "    </tr>\n",
              "    <tr>\n",
              "      <th>7</th>\n",
              "      <td>2002</td>\n",
              "      <td>60426.7</td>\n",
              "      <td>3.711720</td>\n",
              "    </tr>\n",
              "    <tr>\n",
              "      <th>8</th>\n",
              "      <td>2003</td>\n",
              "      <td>73111.7</td>\n",
              "      <td>20.992376</td>\n",
              "    </tr>\n",
              "    <tr>\n",
              "      <th>9</th>\n",
              "      <td>2004</td>\n",
              "      <td>96442.9</td>\n",
              "      <td>31.911719</td>\n",
              "    </tr>\n",
              "    <tr>\n",
              "      <th>10</th>\n",
              "      <td>2005</td>\n",
              "      <td>118249.9</td>\n",
              "      <td>22.611307</td>\n",
              "    </tr>\n",
              "    <tr>\n",
              "      <th>11</th>\n",
              "      <td>2006</td>\n",
              "      <td>137808.2</td>\n",
              "      <td>16.539803</td>\n",
              "    </tr>\n",
              "    <tr>\n",
              "      <th>12</th>\n",
              "      <td>2007</td>\n",
              "      <td>160667.5</td>\n",
              "      <td>16.587765</td>\n",
              "    </tr>\n",
              "    <tr>\n",
              "      <th>13</th>\n",
              "      <td>2008</td>\n",
              "      <td>198377.7</td>\n",
              "      <td>23.470957</td>\n",
              "    </tr>\n",
              "    <tr>\n",
              "      <th>14</th>\n",
              "      <td>2009</td>\n",
              "      <td>153609.4</td>\n",
              "      <td>-22.567204</td>\n",
              "    </tr>\n",
              "    <tr>\n",
              "      <th>15</th>\n",
              "      <td>2010</td>\n",
              "      <td>201324.2</td>\n",
              "      <td>31.062422</td>\n",
              "    </tr>\n",
              "    <tr>\n",
              "      <th>16</th>\n",
              "      <td>2011</td>\n",
              "      <td>255505.9</td>\n",
              "      <td>26.912661</td>\n",
              "    </tr>\n",
              "    <tr>\n",
              "      <th>17</th>\n",
              "      <td>2012</td>\n",
              "      <td>242283.3</td>\n",
              "      <td>-5.175066</td>\n",
              "    </tr>\n",
              "    <tr>\n",
              "      <th>18</th>\n",
              "      <td>2013</td>\n",
              "      <td>241577.2</td>\n",
              "      <td>-0.291436</td>\n",
              "    </tr>\n",
              "    <tr>\n",
              "      <th>19</th>\n",
              "      <td>2014</td>\n",
              "      <td>224097.7</td>\n",
              "      <td>-7.235575</td>\n",
              "    </tr>\n",
              "    <tr>\n",
              "      <th>20</th>\n",
              "      <td>2015</td>\n",
              "      <td>190076.9</td>\n",
              "      <td>-15.181236</td>\n",
              "    </tr>\n",
              "    <tr>\n",
              "      <th>21</th>\n",
              "      <td>2016</td>\n",
              "      <td>184314.4</td>\n",
              "      <td>-3.031668</td>\n",
              "    </tr>\n",
              "    <tr>\n",
              "      <th>22</th>\n",
              "      <td>2017</td>\n",
              "      <td>218068.6</td>\n",
              "      <td>18.313382</td>\n",
              "    </tr>\n",
              "    <tr>\n",
              "      <th>23</th>\n",
              "      <td>2018</td>\n",
              "      <td>239537.0</td>\n",
              "      <td>9.844792</td>\n",
              "    </tr>\n",
              "    <tr>\n",
              "      <th>24</th>\n",
              "      <td>2019</td>\n",
              "      <td>167739.5</td>\n",
              "      <td>-29.973449</td>\n",
              "    </tr>\n",
              "  </tbody>\n",
              "</table>\n",
              "</div>"
            ],
            "text/plain": [
              "     Ano     Total  Crescimento (%)\n",
              "0   1995   46416.1         0.000000\n",
              "1   1996   47711.2         2.790196\n",
              "2   1997   52822.4        10.712789\n",
              "3   1998   51108.5        -3.244646\n",
              "4   1999   48264.2        -5.565219\n",
              "5   2000   55313.2        14.605028\n",
              "6   2001   58264.1         5.334893\n",
              "7   2002   60426.7         3.711720\n",
              "8   2003   73111.7        20.992376\n",
              "9   2004   96442.9        31.911719\n",
              "10  2005  118249.9        22.611307\n",
              "11  2006  137808.2        16.539803\n",
              "12  2007  160667.5        16.587765\n",
              "13  2008  198377.7        23.470957\n",
              "14  2009  153609.4       -22.567204\n",
              "15  2010  201324.2        31.062422\n",
              "16  2011  255505.9        26.912661\n",
              "17  2012  242283.3        -5.175066\n",
              "18  2013  241577.2        -0.291436\n",
              "19  2014  224097.7        -7.235575\n",
              "20  2015  190076.9       -15.181236\n",
              "21  2016  184314.4        -3.031668\n",
              "22  2017  218068.6        18.313382\n",
              "23  2018  239537.0         9.844792\n",
              "24  2019  167739.5       -29.973449"
            ]
          },
          "metadata": {
            "tags": []
          },
          "execution_count": 15
        }
      ]
    },
    {
      "cell_type": "markdown",
      "metadata": {
        "id": "MZDdN_jBSFfb",
        "colab_type": "text"
      },
      "source": [
        "### 1.2. Gráfico de Exportação"
      ]
    },
    {
      "cell_type": "code",
      "metadata": {
        "id": "onM81tH6Qtxl",
        "colab_type": "code",
        "outputId": "71dc9793-1f6c-4d80-d575-bf63f4d8eb4d",
        "colab": {
          "base_uri": "https://localhost:8080/",
          "height": 281
        }
      },
      "source": [
        "for ano in total_export:\n",
        "    plt.title('Exportação')\n",
        "    plt.bar(ano, total_export[ano])"
      ],
      "execution_count": 11,
      "outputs": [
        {
          "output_type": "display_data",
          "data": {
            "image/png": "[encoded data removed]",
            "text/plain": [
              "<Figure size 432x288 with 1 Axes>"
            ]
          },
          "metadata": {
            "tags": []
          }
        }
      ]
    },
    {
      "cell_type": "markdown",
      "metadata": {
        "id": "KfIk4Hl-SL4O",
        "colab_type": "text"
      },
      "source": [
        "# 2. Analizando os dados nacionais de Importação"
      ]
    },
    {
      "cell_type": "code",
      "metadata": {
        "id": "EQRSh58CQtyo",
        "colab_type": "code",
        "colab": {}
      },
      "source": [
        "# Tabela de importação\n",
        "df_i = pd.read_csv('https://raw.githubusercontent.com/dressalsl/mercadoInternacional/master/importacao-de-bens.csv', sep = \";\")"
      ],
      "execution_count": 0,
      "outputs": []
    },
    {
      "cell_type": "code",
      "metadata": {
        "id": "UorIDVM2Qtz3",
        "colab_type": "code",
        "colab": {}
      },
      "source": [
        "# Totais de importação:\n",
        "total_import = {}\n",
        "for i in range(math.ceil(len(df_i)/12)):\n",
        "    total_import[1995 + i] = 0"
      ],
      "execution_count": 0,
      "outputs": []
    },
    {
      "cell_type": "code",
      "metadata": {
        "id": "Sha4034zQt1G",
        "colab_type": "code",
        "outputId": "eaba54dc-93fd-4690-b188-8255f7fe8767",
        "colab": {
          "base_uri": "https://localhost:8080/",
          "height": 471
        }
      },
      "source": [
        "ano = 1995\n",
        "\n",
        "for mes in range(len(df_i)):\n",
        "    if mes % 12 == 0 and mes != 0:\n",
        "        ano += 1\n",
        "    \n",
        "    # Pre-processing the value...\n",
        "    prep_str = df_i.iloc[mes,1].replace(',','.')\n",
        "    value = float(prep_str)\n",
        "    total_import[ano] += value"
      ],
      "execution_count": 9,
      "outputs": [
        {
          "output_type": "stream",
          "text": [
            "12 1995\n",
            "24 1996\n",
            "36 1997\n",
            "48 1998\n",
            "60 1999\n",
            "72 2000\n",
            "84 2001\n",
            "96 2002\n",
            "108 2003\n",
            "120 2004\n",
            "132 2005\n",
            "144 2006\n",
            "156 2007\n",
            "168 2008\n",
            "180 2009\n",
            "192 2010\n",
            "204 2011\n",
            "216 2012\n",
            "228 2013\n",
            "240 2014\n",
            "252 2015\n",
            "264 2016\n",
            "276 2017\n",
            "288 2018\n",
            "{1995: 50987.100000000006, 1996: 54347.4, 1997: 60800.4, 1998: 58841.8, 1999: 50379.69999999999, 2000: 56936.1, 2001: 56729.8, 2002: 48377.2, 2003: 49362.69999999998, 2004: 63904.89999999999, 2005: 74824.7, 2006: 92689.1, 2007: 122184.09999999999, 2008: 174575.69999999998, 2009: 128651.5, 2010: 182833.2, 2011: 227880.8, 2012: 224863.60000000003, 2013: 241188.7, 2014: 230727.19999999998, 2015: 172422.19999999998, 2016: 139679.7, 2017: 154109.30000000002, 2018: 186489.8, 2019: 138927.1}\n"
          ],
          "name": "stdout"
        }
      ]
    },
    {
      "cell_type": "code",
      "metadata": {
        "id": "gqlQxR-4UzFP",
        "colab_type": "code",
        "colab": {
          "base_uri": "https://localhost:8080/",
          "height": 54
        },
        "outputId": "b03e3ae0-ae17-47fb-b4e3-2021839edd23"
      },
      "source": [
        "# Importation growth rate compared to the previous year\n",
        "crescimento_importacao = [0]\n",
        "for p in range(1, len(total_import)):\n",
        "    taxa = (total_import[1995 + p] - total_import[1995 + p -1]) / total_import[1995 + p - 1]\n",
        "    crescimento_importacao.append(taxa * 100)\n",
        "print(crescimento_importacao)"
      ],
      "execution_count": 16,
      "outputs": [
        {
          "output_type": "stream",
          "text": [
            "[0, 6.590490535841409, 11.873613089126618, -3.2213603857869333, -14.38110322933699, 13.01397189741108, -0.3623360223127254, -14.72347866553382, 2.037116658260473, 29.45989583227824, 17.087578573787006, 23.875003842314115, 31.82143315664947, 42.87922896678045, -26.3061812153696, 42.11509387764621, 24.638632370926054, -1.324025543178694, 7.260001174045054, -4.337475180221971, -25.270102528007104, -18.98972406105477, 10.330491832385096, 21.011386074688527, -25.50418307060224]\n"
          ],
          "name": "stdout"
        }
      ]
    },
    {
      "cell_type": "markdown",
      "metadata": {
        "id": "HyzFHNTaSVZZ",
        "colab_type": "text"
      },
      "source": [
        "### 2.1. Tabela com os totais anuais de Importação"
      ]
    },
    {
      "cell_type": "code",
      "metadata": {
        "id": "3LlN259dQt27",
        "colab_type": "code",
        "colab": {
          "base_uri": "https://localhost:8080/",
          "height": 834
        },
        "outputId": "fb445ed8-1dae-4f0f-b13c-0a6d1a70b363"
      },
      "source": [
        "df2 = {'Ano' : list(total_import.keys()), 'Valor (R$)' : list(total_import.values()), 'Crescimento (%)' : crescimento_importacao}\n",
        "pd.DataFrame(df2)"
      ],
      "execution_count": 17,
      "outputs": [
        {
          "output_type": "execute_result",
          "data": {
            "text/html": [
              "<div>\n",
              "<style scoped>\n",
              "    .dataframe tbody tr th:only-of-type {\n",
              "        vertical-align: middle;\n",
              "    }\n",
              "\n",
              "    .dataframe tbody tr th {\n",
              "        vertical-align: top;\n",
              "    }\n",
              "\n",
              "    .dataframe thead th {\n",
              "        text-align: right;\n",
              "    }\n",
              "</style>\n",
              "<table border=\"1\" class=\"dataframe\">\n",
              "  <thead>\n",
              "    <tr style=\"text-align: right;\">\n",
              "      <th></th>\n",
              "      <th>Ano</th>\n",
              "      <th>Valor (R$)</th>\n",
              "      <th>Crescimento (%)</th>\n",
              "    </tr>\n",
              "  </thead>\n",
              "  <tbody>\n",
              "    <tr>\n",
              "      <th>0</th>\n",
              "      <td>1995</td>\n",
              "      <td>50987.1</td>\n",
              "      <td>0.000000</td>\n",
              "    </tr>\n",
              "    <tr>\n",
              "      <th>1</th>\n",
              "      <td>1996</td>\n",
              "      <td>54347.4</td>\n",
              "      <td>6.590491</td>\n",
              "    </tr>\n",
              "    <tr>\n",
              "      <th>2</th>\n",
              "      <td>1997</td>\n",
              "      <td>60800.4</td>\n",
              "      <td>11.873613</td>\n",
              "    </tr>\n",
              "    <tr>\n",
              "      <th>3</th>\n",
              "      <td>1998</td>\n",
              "      <td>58841.8</td>\n",
              "      <td>-3.221360</td>\n",
              "    </tr>\n",
              "    <tr>\n",
              "      <th>4</th>\n",
              "      <td>1999</td>\n",
              "      <td>50379.7</td>\n",
              "      <td>-14.381103</td>\n",
              "    </tr>\n",
              "    <tr>\n",
              "      <th>5</th>\n",
              "      <td>2000</td>\n",
              "      <td>56936.1</td>\n",
              "      <td>13.013972</td>\n",
              "    </tr>\n",
              "    <tr>\n",
              "      <th>6</th>\n",
              "      <td>2001</td>\n",
              "      <td>56729.8</td>\n",
              "      <td>-0.362336</td>\n",
              "    </tr>\n",
              "    <tr>\n",
              "      <th>7</th>\n",
              "      <td>2002</td>\n",
              "      <td>48377.2</td>\n",
              "      <td>-14.723479</td>\n",
              "    </tr>\n",
              "    <tr>\n",
              "      <th>8</th>\n",
              "      <td>2003</td>\n",
              "      <td>49362.7</td>\n",
              "      <td>2.037117</td>\n",
              "    </tr>\n",
              "    <tr>\n",
              "      <th>9</th>\n",
              "      <td>2004</td>\n",
              "      <td>63904.9</td>\n",
              "      <td>29.459896</td>\n",
              "    </tr>\n",
              "    <tr>\n",
              "      <th>10</th>\n",
              "      <td>2005</td>\n",
              "      <td>74824.7</td>\n",
              "      <td>17.087579</td>\n",
              "    </tr>\n",
              "    <tr>\n",
              "      <th>11</th>\n",
              "      <td>2006</td>\n",
              "      <td>92689.1</td>\n",
              "      <td>23.875004</td>\n",
              "    </tr>\n",
              "    <tr>\n",
              "      <th>12</th>\n",
              "      <td>2007</td>\n",
              "      <td>122184.1</td>\n",
              "      <td>31.821433</td>\n",
              "    </tr>\n",
              "    <tr>\n",
              "      <th>13</th>\n",
              "      <td>2008</td>\n",
              "      <td>174575.7</td>\n",
              "      <td>42.879229</td>\n",
              "    </tr>\n",
              "    <tr>\n",
              "      <th>14</th>\n",
              "      <td>2009</td>\n",
              "      <td>128651.5</td>\n",
              "      <td>-26.306181</td>\n",
              "    </tr>\n",
              "    <tr>\n",
              "      <th>15</th>\n",
              "      <td>2010</td>\n",
              "      <td>182833.2</td>\n",
              "      <td>42.115094</td>\n",
              "    </tr>\n",
              "    <tr>\n",
              "      <th>16</th>\n",
              "      <td>2011</td>\n",
              "      <td>227880.8</td>\n",
              "      <td>24.638632</td>\n",
              "    </tr>\n",
              "    <tr>\n",
              "      <th>17</th>\n",
              "      <td>2012</td>\n",
              "      <td>224863.6</td>\n",
              "      <td>-1.324026</td>\n",
              "    </tr>\n",
              "    <tr>\n",
              "      <th>18</th>\n",
              "      <td>2013</td>\n",
              "      <td>241188.7</td>\n",
              "      <td>7.260001</td>\n",
              "    </tr>\n",
              "    <tr>\n",
              "      <th>19</th>\n",
              "      <td>2014</td>\n",
              "      <td>230727.2</td>\n",
              "      <td>-4.337475</td>\n",
              "    </tr>\n",
              "    <tr>\n",
              "      <th>20</th>\n",
              "      <td>2015</td>\n",
              "      <td>172422.2</td>\n",
              "      <td>-25.270103</td>\n",
              "    </tr>\n",
              "    <tr>\n",
              "      <th>21</th>\n",
              "      <td>2016</td>\n",
              "      <td>139679.7</td>\n",
              "      <td>-18.989724</td>\n",
              "    </tr>\n",
              "    <tr>\n",
              "      <th>22</th>\n",
              "      <td>2017</td>\n",
              "      <td>154109.3</td>\n",
              "      <td>10.330492</td>\n",
              "    </tr>\n",
              "    <tr>\n",
              "      <th>23</th>\n",
              "      <td>2018</td>\n",
              "      <td>186489.8</td>\n",
              "      <td>21.011386</td>\n",
              "    </tr>\n",
              "    <tr>\n",
              "      <th>24</th>\n",
              "      <td>2019</td>\n",
              "      <td>138927.1</td>\n",
              "      <td>-25.504183</td>\n",
              "    </tr>\n",
              "  </tbody>\n",
              "</table>\n",
              "</div>"
            ],
            "text/plain": [
              "     Ano  Valor (R$)  Crescimento (%)\n",
              "0   1995     50987.1         0.000000\n",
              "1   1996     54347.4         6.590491\n",
              "2   1997     60800.4        11.873613\n",
              "3   1998     58841.8        -3.221360\n",
              "4   1999     50379.7       -14.381103\n",
              "5   2000     56936.1        13.013972\n",
              "6   2001     56729.8        -0.362336\n",
              "7   2002     48377.2       -14.723479\n",
              "8   2003     49362.7         2.037117\n",
              "9   2004     63904.9        29.459896\n",
              "10  2005     74824.7        17.087579\n",
              "11  2006     92689.1        23.875004\n",
              "12  2007    122184.1        31.821433\n",
              "13  2008    174575.7        42.879229\n",
              "14  2009    128651.5       -26.306181\n",
              "15  2010    182833.2        42.115094\n",
              "16  2011    227880.8        24.638632\n",
              "17  2012    224863.6        -1.324026\n",
              "18  2013    241188.7         7.260001\n",
              "19  2014    230727.2        -4.337475\n",
              "20  2015    172422.2       -25.270103\n",
              "21  2016    139679.7       -18.989724\n",
              "22  2017    154109.3        10.330492\n",
              "23  2018    186489.8        21.011386\n",
              "24  2019    138927.1       -25.504183"
            ]
          },
          "metadata": {
            "tags": []
          },
          "execution_count": 17
        }
      ]
    },
    {
      "cell_type": "markdown",
      "metadata": {
        "id": "663-_wncVWSb",
        "colab_type": "text"
      },
      "source": [
        "### 2.2. Gráficos de Importação"
      ]
    },
    {
      "cell_type": "markdown",
      "metadata": {
        "id": "RV9Kej6aVPJM",
        "colab_type": "text"
      },
      "source": [
        ""
      ]
    },
    {
      "cell_type": "code",
      "metadata": {
        "id": "QYa7535HVNi1",
        "colab_type": "code",
        "colab": {
          "base_uri": "https://localhost:8080/",
          "height": 281
        },
        "outputId": "4173f4ae-88de-4c46-c35c-811efe5b4dd9"
      },
      "source": [
        "# Importation graphic\n",
        "plt.title('Importação')\n",
        "for ano in total_import:\n",
        "    plt.bar(ano, total_import[ano])"
      ],
      "execution_count": 18,
      "outputs": [
        {
          "output_type": "display_data",
          "data": {
            "image/png": "[encoded data removed]",
            "text/plain": [
              "<Figure size 432x288 with 1 Axes>"
            ]
          },
          "metadata": {
            "tags": []
          }
        }
      ]
    },
    {
      "cell_type": "markdown",
      "metadata": {
        "id": "jBPZjgIjWhtO",
        "colab_type": "text"
      },
      "source": [
        "# 3. Balança Comercial\n",
        "Total de Exportação - Total de Importação"
      ]
    },
    {
      "cell_type": "code",
      "metadata": {
        "id": "6V2GqRtXW6UB",
        "colab_type": "code",
        "colab": {}
      },
      "source": [
        "balanca = {}\n",
        "res = []\n",
        "taxas = []\n",
        "for ano in total_export:\n",
        "  # Saldo da balança comercial\n",
        "  balanca[ano] = (total_export[ano] - total_import[ano])\n",
        "\n",
        "  # Taxas de cobertura\n",
        "  taxa_cobertura = (total_export[ano] / total_import[ano]) * 100\n",
        "  taxas.append(taxa_cobertura)\n",
        "\n",
        "  # Verificando o resultado da balança\n",
        "  if balanca[ano] > 0:\n",
        "    res.append('Superavit')\n",
        "  elif balanca[ano] < 0:\n",
        "    res.append('Deficit')\n",
        "  else:\n",
        "    re.append('Equilíbrio')"
      ],
      "execution_count": 0,
      "outputs": []
    },
    {
      "cell_type": "markdown",
      "metadata": {
        "id": "tSX4yT7tZ3Xr",
        "colab_type": "text"
      },
      "source": [
        "### 3.1. Tabela de Saldo da Balança Comercial"
      ]
    },
    {
      "cell_type": "code",
      "metadata": {
        "id": "K5LSIRu_YpX3",
        "colab_type": "code",
        "colab": {
          "base_uri": "https://localhost:8080/",
          "height": 834
        },
        "outputId": "9cd6fd01-91ac-4e54-e422-8fd040893a83"
      },
      "source": [
        "df3 = {'Ano' : list(balanca.keys()), 'Saldo' : list(balanca.values()), 'Resultado' : res, 'Taxa de Cobertura (%)' : taxas}\n",
        "pd.DataFrame(df3)"
      ],
      "execution_count": 31,
      "outputs": [
        {
          "output_type": "execute_result",
          "data": {
            "text/html": [
              "<div>\n",
              "<style scoped>\n",
              "    .dataframe tbody tr th:only-of-type {\n",
              "        vertical-align: middle;\n",
              "    }\n",
              "\n",
              "    .dataframe tbody tr th {\n",
              "        vertical-align: top;\n",
              "    }\n",
              "\n",
              "    .dataframe thead th {\n",
              "        text-align: right;\n",
              "    }\n",
              "</style>\n",
              "<table border=\"1\" class=\"dataframe\">\n",
              "  <thead>\n",
              "    <tr style=\"text-align: right;\">\n",
              "      <th></th>\n",
              "      <th>Ano</th>\n",
              "      <th>Saldo</th>\n",
              "      <th>Resultado</th>\n",
              "      <th>Taxa de Cobertura (%)</th>\n",
              "    </tr>\n",
              "  </thead>\n",
              "  <tbody>\n",
              "    <tr>\n",
              "      <th>0</th>\n",
              "      <td>1995</td>\n",
              "      <td>-4571.0</td>\n",
              "      <td>Deficit</td>\n",
              "      <td>91.034987</td>\n",
              "    </tr>\n",
              "    <tr>\n",
              "      <th>1</th>\n",
              "      <td>1996</td>\n",
              "      <td>-6636.2</td>\n",
              "      <td>Deficit</td>\n",
              "      <td>87.789296</td>\n",
              "    </tr>\n",
              "    <tr>\n",
              "      <th>2</th>\n",
              "      <td>1997</td>\n",
              "      <td>-7978.0</td>\n",
              "      <td>Deficit</td>\n",
              "      <td>86.878376</td>\n",
              "    </tr>\n",
              "    <tr>\n",
              "      <th>3</th>\n",
              "      <td>1998</td>\n",
              "      <td>-7733.3</td>\n",
              "      <td>Deficit</td>\n",
              "      <td>86.857472</td>\n",
              "    </tr>\n",
              "    <tr>\n",
              "      <th>4</th>\n",
              "      <td>1999</td>\n",
              "      <td>-2115.5</td>\n",
              "      <td>Deficit</td>\n",
              "      <td>95.800888</td>\n",
              "    </tr>\n",
              "    <tr>\n",
              "      <th>5</th>\n",
              "      <td>2000</td>\n",
              "      <td>-1622.9</td>\n",
              "      <td>Deficit</td>\n",
              "      <td>97.149612</td>\n",
              "    </tr>\n",
              "    <tr>\n",
              "      <th>6</th>\n",
              "      <td>2001</td>\n",
              "      <td>1534.3</td>\n",
              "      <td>Superavit</td>\n",
              "      <td>102.704575</td>\n",
              "    </tr>\n",
              "    <tr>\n",
              "      <th>7</th>\n",
              "      <td>2002</td>\n",
              "      <td>12049.5</td>\n",
              "      <td>Superavit</td>\n",
              "      <td>124.907394</td>\n",
              "    </tr>\n",
              "    <tr>\n",
              "      <th>8</th>\n",
              "      <td>2003</td>\n",
              "      <td>23749.0</td>\n",
              "      <td>Superavit</td>\n",
              "      <td>148.111226</td>\n",
              "    </tr>\n",
              "    <tr>\n",
              "      <th>9</th>\n",
              "      <td>2004</td>\n",
              "      <td>32538.0</td>\n",
              "      <td>Superavit</td>\n",
              "      <td>150.916283</td>\n",
              "    </tr>\n",
              "    <tr>\n",
              "      <th>10</th>\n",
              "      <td>2005</td>\n",
              "      <td>43425.2</td>\n",
              "      <td>Superavit</td>\n",
              "      <td>158.035916</td>\n",
              "    </tr>\n",
              "    <tr>\n",
              "      <th>11</th>\n",
              "      <td>2006</td>\n",
              "      <td>45119.1</td>\n",
              "      <td>Superavit</td>\n",
              "      <td>148.677892</td>\n",
              "    </tr>\n",
              "    <tr>\n",
              "      <th>12</th>\n",
              "      <td>2007</td>\n",
              "      <td>38483.4</td>\n",
              "      <td>Superavit</td>\n",
              "      <td>131.496242</td>\n",
              "    </tr>\n",
              "    <tr>\n",
              "      <th>13</th>\n",
              "      <td>2008</td>\n",
              "      <td>23802.0</td>\n",
              "      <td>Superavit</td>\n",
              "      <td>113.634200</td>\n",
              "    </tr>\n",
              "    <tr>\n",
              "      <th>14</th>\n",
              "      <td>2009</td>\n",
              "      <td>24957.9</td>\n",
              "      <td>Superavit</td>\n",
              "      <td>119.399618</td>\n",
              "    </tr>\n",
              "    <tr>\n",
              "      <th>15</th>\n",
              "      <td>2010</td>\n",
              "      <td>18491.0</td>\n",
              "      <td>Superavit</td>\n",
              "      <td>110.113590</td>\n",
              "    </tr>\n",
              "    <tr>\n",
              "      <th>16</th>\n",
              "      <td>2011</td>\n",
              "      <td>27625.1</td>\n",
              "      <td>Superavit</td>\n",
              "      <td>112.122610</td>\n",
              "    </tr>\n",
              "    <tr>\n",
              "      <th>17</th>\n",
              "      <td>2012</td>\n",
              "      <td>17419.7</td>\n",
              "      <td>Superavit</td>\n",
              "      <td>107.746785</td>\n",
              "    </tr>\n",
              "    <tr>\n",
              "      <th>18</th>\n",
              "      <td>2013</td>\n",
              "      <td>388.5</td>\n",
              "      <td>Superavit</td>\n",
              "      <td>100.161077</td>\n",
              "    </tr>\n",
              "    <tr>\n",
              "      <th>19</th>\n",
              "      <td>2014</td>\n",
              "      <td>-6629.5</td>\n",
              "      <td>Deficit</td>\n",
              "      <td>97.126693</td>\n",
              "    </tr>\n",
              "    <tr>\n",
              "      <th>20</th>\n",
              "      <td>2015</td>\n",
              "      <td>17654.7</td>\n",
              "      <td>Superavit</td>\n",
              "      <td>110.239227</td>\n",
              "    </tr>\n",
              "    <tr>\n",
              "      <th>21</th>\n",
              "      <td>2016</td>\n",
              "      <td>44634.7</td>\n",
              "      <td>Superavit</td>\n",
              "      <td>131.955037</td>\n",
              "    </tr>\n",
              "    <tr>\n",
              "      <th>22</th>\n",
              "      <td>2017</td>\n",
              "      <td>63959.3</td>\n",
              "      <td>Superavit</td>\n",
              "      <td>141.502557</td>\n",
              "    </tr>\n",
              "    <tr>\n",
              "      <th>23</th>\n",
              "      <td>2018</td>\n",
              "      <td>53047.2</td>\n",
              "      <td>Superavit</td>\n",
              "      <td>128.445095</td>\n",
              "    </tr>\n",
              "    <tr>\n",
              "      <th>24</th>\n",
              "      <td>2019</td>\n",
              "      <td>28812.4</td>\n",
              "      <td>Superavit</td>\n",
              "      <td>120.739222</td>\n",
              "    </tr>\n",
              "  </tbody>\n",
              "</table>\n",
              "</div>"
            ],
            "text/plain": [
              "     Ano    Saldo  Resultado  Taxa de Cobertura (%)\n",
              "0   1995  -4571.0    Deficit              91.034987\n",
              "1   1996  -6636.2    Deficit              87.789296\n",
              "2   1997  -7978.0    Deficit              86.878376\n",
              "3   1998  -7733.3    Deficit              86.857472\n",
              "4   1999  -2115.5    Deficit              95.800888\n",
              "5   2000  -1622.9    Deficit              97.149612\n",
              "6   2001   1534.3  Superavit             102.704575\n",
              "7   2002  12049.5  Superavit             124.907394\n",
              "8   2003  23749.0  Superavit             148.111226\n",
              "9   2004  32538.0  Superavit             150.916283\n",
              "10  2005  43425.2  Superavit             158.035916\n",
              "11  2006  45119.1  Superavit             148.677892\n",
              "12  2007  38483.4  Superavit             131.496242\n",
              "13  2008  23802.0  Superavit             113.634200\n",
              "14  2009  24957.9  Superavit             119.399618\n",
              "15  2010  18491.0  Superavit             110.113590\n",
              "16  2011  27625.1  Superavit             112.122610\n",
              "17  2012  17419.7  Superavit             107.746785\n",
              "18  2013    388.5  Superavit             100.161077\n",
              "19  2014  -6629.5    Deficit              97.126693\n",
              "20  2015  17654.7  Superavit             110.239227\n",
              "21  2016  44634.7  Superavit             131.955037\n",
              "22  2017  63959.3  Superavit             141.502557\n",
              "23  2018  53047.2  Superavit             128.445095\n",
              "24  2019  28812.4  Superavit             120.739222"
            ]
          },
          "metadata": {
            "tags": []
          },
          "execution_count": 31
        }
      ]
    },
    {
      "cell_type": "markdown",
      "metadata": {
        "id": "cPX34xMNaBQp",
        "colab_type": "text"
      },
      "source": [
        "### 3.2. Gráfico do crescimento da balança"
      ]
    },
    {
      "cell_type": "code",
      "metadata": {
        "id": "lXXo95qKaHXA",
        "colab_type": "code",
        "colab": {
          "base_uri": "https://localhost:8080/",
          "height": 281
        },
        "outputId": "6a4dc115-9e58-41b1-b63f-158d2fbfff78"
      },
      "source": [
        "# Balance total\n",
        "plt.title('Balança Comercial Brasileira')\n",
        "for ano in balanca:\n",
        "  plt.bar(ano, balanca[ano])"
      ],
      "execution_count": 28,
      "outputs": [
        {
          "output_type": "display_data",
          "data": {
            "image/png": "[encoded data removed]",
            "text/plain": [
              "<Figure size 432x288 with 1 Axes>"
            ]
          },
          "metadata": {
            "tags": []
          }
        }
      ]
    }
  ]
}